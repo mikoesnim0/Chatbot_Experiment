{
 "cells": [
  {
   "cell_type": "code",
   "execution_count": 1,
   "metadata": {},
   "outputs": [
    {
     "data": {
      "text/plain": [
       "<openai.OpenAI at 0x21ef7252ea0>"
      ]
     },
     "execution_count": 1,
     "metadata": {},
     "output_type": "execute_result"
    }
   ],
   "source": [
    "# in here, I'm setting OpenAI key\n",
    "from openai import OpenAI\n",
    "from dotenv import load_dotenv\n",
    "load_dotenv()\n",
    "\n",
    "\n",
    "\n",
    "#define client -> after openai 1.1 \n",
    "# # generate class instance\n",
    "client = OpenAI()\n",
    "client\n"
   ]
  },
  {
   "cell_type": "markdown",
   "metadata": {},
   "source": [
    "- What's API?\n",
    "\n",
    "API is getting request by protocol - to server\n",
    "server gets code, and input into function, and then It will give into there\n",
    "\n",
    "The protocol - corresponds to Openai documents so need to refer it all the times"
   ]
  },
  {
   "cell_type": "code",
   "execution_count": 12,
   "metadata": {},
   "outputs": [],
   "source": [
    " # all the model parameters: make model.\n",
    "#  about all the parameters on this context:\n",
    "# define of the chatbot persona\n",
    "completion = client.chat.completions.create(\n",
    "    model  = \"gpt-4o\",\n",
    "    messages = [\n",
    "        {\n",
    "        \"role\":\"system\",\n",
    "        \"content\":\"you are a python programmer\",\n",
    "\n",
    "    },\n",
    "    {\n",
    "        \"role\":\"user\",\n",
    "        \"content\":\"make a python program to make PVP battle like territorial io\",\n",
    "    },\n",
    "    ],\n",
    "\n",
    ")"
   ]
  },
  {
   "cell_type": "markdown",
   "metadata": {},
   "source": [
    "# ChatCompletion Object"
   ]
  },
  {
   "cell_type": "code",
   "execution_count": 15,
   "metadata": {},
   "outputs": [
    {
     "name": "stdout",
     "output_type": "stream",
     "text": [
      "Creating a Player vs. Player (PVP) battle game similar to Territorial.io can be quite complex as it involves several components, including game logic, a user interface, and potentially networking if you want to enable online multiplayer. Since building a complete game from scratch is a significant undertaking, I'll illustrate a simplified text-based version to get you started. This example won't involve graphics but will cover some basic game mechanics like player actions and territory control.\n",
      "\n",
      "Here's a basic text-based version of a PVP battle:\n",
      "\n",
      "```python\n",
      "import random\n",
      "\n",
      "class Player:\n",
      "    def __init__(self, name):\n",
      "        self.name = name\n",
      "        self.territory = 1\n",
      "        self.troops = 10\n",
      "    \n",
      "    def attack(self, other):\n",
      "        if self.troops > 0:\n",
      "            attack_power = random.randint(1, 3)\n",
      "            self.troops -= attack_power\n",
      "            other.territory -= attack_power\n",
      "            other.territory = max(0, other.territory) # Ensure territory doesn't go negative\n",
      "            print(f\"{self.name} attacked {other.name} with {attack_power} power!\")\n",
      "        else:\n",
      "            print(f\"{self.name} has no troops left to attack!\")\n",
      "\n",
      "    def reinforce(self):\n",
      "        reinforcement = random.randint(1, 5)\n",
      "        self.troops += reinforcement\n",
      "        print(f\"{self.name} reinforced with {reinforcement} troops!\")\n",
      "    \n",
      "    def show_status(self):\n",
      "        print(f\"{self.name} - Territory: {self.territory}, Troops: {self.troops}\")\n",
      "\n",
      "def check_winner(player1, player2):\n",
      "    if player1.territory <= 0:\n",
      "        return player2\n",
      "    elif player2.territory <= 0:\n",
      "        return player1\n",
      "    else:\n",
      "        return None\n",
      "\n",
      "def main():\n",
      "    player1_name = input(\"Enter name for Player 1: \")\n",
      "    player2_name = input(\"Enter name for Player 2: \")\n",
      "\n",
      "    player1 = Player(player1_name)\n",
      "    player2 = Player(player2_name)\n",
      "\n",
      "    turn = 0\n",
      "    while True:\n",
      "        print(\"\\nTurn\", turn + 1)\n",
      "        player1.show_status()\n",
      "        player2.show_status()\n",
      "        \n",
      "        if turn % 2 == 0:\n",
      "            print(f\"\\n{player1.name}'s turn\")\n",
      "            action = input(\"Enter 'a' to attack or 'r' to reinforce: \")\n",
      "            if action == 'a':\n",
      "                player1.attack(player2)\n",
      "            elif action == 'r':\n",
      "                player1.reinforce()\n",
      "        else:\n",
      "            print(f\"\\n{player2.name}'s turn\")\n",
      "            action = input(\"Enter 'a' to attack or 'r' to reinforce: \")\n",
      "            if action == 'a':\n",
      "                player2.attack(player1)\n",
      "            elif action == 'r':\n",
      "                player2.reinforce()\n",
      "        \n",
      "        winner = check_winner(player1, player2)\n",
      "        if winner:\n",
      "            print(f\"\\n{winner.name} wins the game!\")\n",
      "            break\n",
      "\n",
      "        turn += 1\n",
      "\n",
      "if __name__ == \"__main__\":\n",
      "    main()\n",
      "```\n",
      "\n",
      "### How it Works:\n",
      "1. **Player Class**: Represents each player with attributes for `name`, `territory`, and `troops`. Players can `attack` another player or `reinforce` their troops.\n",
      "2. **Main Loop**: Runs alternating turns for each player to either attack or reinforce.\n",
      "3. **Winner Check**: Continually checks if either player's territory drops to 0 or below, declaring the other player as the winner.\n",
      "4. **User Interaction**: Simple text inputs to control player actions.\n",
      "\n",
      "### Next Steps:\n",
      "- **Graphics**: Integrate a graphical library like Pygame to add a visual representation.\n",
      "- **Networking**: Incorporate networking with libraries like `socket` to allow online multiplayer battles.\n",
      "- **Enhanced Logic**: Add more sophisticated features like troop distribution, multiple territories, and varied actions.\n",
      "\n",
      "This is a foundational example to demonstrate the basic structure and logic you'd need for a more complex game like Territorial.io.\n"
     ]
    }
   ],
   "source": [
    "# chatGPT에 답변이 전달되면 - completion.~.content로 들어가 적용받게 됨을 볼 수 있다.\n",
    "# 실제로 API 요청을 보냈고 이에 대한 응답을 생성하여 network로 보내주었음을 알 수 있겠다.\n",
    "\n",
    "# -> 실제로 그런 것들이 - 만약에 해당 서비스가 중지되는 상황이 발생한다면 - LLAMA 모델을 사용하여 만들어야 하지만\n",
    "\n",
    "# Q. 실제로 모델이 무료라는 것의 정확한 의미가 무엇인지를 아직도 잘 모르겠다. 실제로 구현해나가야지만 가능하다.\n",
    "print(completion.choices[0].message.content)\n"
   ]
  },
  {
   "cell_type": "code",
   "execution_count": 17,
   "metadata": {},
   "outputs": [
    {
     "data": {
      "text/plain": [
       "ChatCompletion(id='chatcmpl-9skl2T61UBcXGAzxCnFFjVFzscd06', choices=[Choice(finish_reason='stop', index=0, logprobs=None, message=ChatCompletionMessage(content='Creating a Player vs. Player (PVP) battle game similar to Territorial.io can be quite complex as it involves several components, including game logic, a user interface, and potentially networking if you want to enable online multiplayer. Since building a complete game from scratch is a significant undertaking, I\\'ll illustrate a simplified text-based version to get you started. This example won\\'t involve graphics but will cover some basic game mechanics like player actions and territory control.\\n\\nHere\\'s a basic text-based version of a PVP battle:\\n\\n```python\\nimport random\\n\\nclass Player:\\n    def __init__(self, name):\\n        self.name = name\\n        self.territory = 1\\n        self.troops = 10\\n    \\n    def attack(self, other):\\n        if self.troops > 0:\\n            attack_power = random.randint(1, 3)\\n            self.troops -= attack_power\\n            other.territory -= attack_power\\n            other.territory = max(0, other.territory) # Ensure territory doesn\\'t go negative\\n            print(f\"{self.name} attacked {other.name} with {attack_power} power!\")\\n        else:\\n            print(f\"{self.name} has no troops left to attack!\")\\n\\n    def reinforce(self):\\n        reinforcement = random.randint(1, 5)\\n        self.troops += reinforcement\\n        print(f\"{self.name} reinforced with {reinforcement} troops!\")\\n    \\n    def show_status(self):\\n        print(f\"{self.name} - Territory: {self.territory}, Troops: {self.troops}\")\\n\\ndef check_winner(player1, player2):\\n    if player1.territory <= 0:\\n        return player2\\n    elif player2.territory <= 0:\\n        return player1\\n    else:\\n        return None\\n\\ndef main():\\n    player1_name = input(\"Enter name for Player 1: \")\\n    player2_name = input(\"Enter name for Player 2: \")\\n\\n    player1 = Player(player1_name)\\n    player2 = Player(player2_name)\\n\\n    turn = 0\\n    while True:\\n        print(\"\\\\nTurn\", turn + 1)\\n        player1.show_status()\\n        player2.show_status()\\n        \\n        if turn % 2 == 0:\\n            print(f\"\\\\n{player1.name}\\'s turn\")\\n            action = input(\"Enter \\'a\\' to attack or \\'r\\' to reinforce: \")\\n            if action == \\'a\\':\\n                player1.attack(player2)\\n            elif action == \\'r\\':\\n                player1.reinforce()\\n        else:\\n            print(f\"\\\\n{player2.name}\\'s turn\")\\n            action = input(\"Enter \\'a\\' to attack or \\'r\\' to reinforce: \")\\n            if action == \\'a\\':\\n                player2.attack(player1)\\n            elif action == \\'r\\':\\n                player2.reinforce()\\n        \\n        winner = check_winner(player1, player2)\\n        if winner:\\n            print(f\"\\\\n{winner.name} wins the game!\")\\n            break\\n\\n        turn += 1\\n\\nif __name__ == \"__main__\":\\n    main()\\n```\\n\\n### How it Works:\\n1. **Player Class**: Represents each player with attributes for `name`, `territory`, and `troops`. Players can `attack` another player or `reinforce` their troops.\\n2. **Main Loop**: Runs alternating turns for each player to either attack or reinforce.\\n3. **Winner Check**: Continually checks if either player\\'s territory drops to 0 or below, declaring the other player as the winner.\\n4. **User Interaction**: Simple text inputs to control player actions.\\n\\n### Next Steps:\\n- **Graphics**: Integrate a graphical library like Pygame to add a visual representation.\\n- **Networking**: Incorporate networking with libraries like `socket` to allow online multiplayer battles.\\n- **Enhanced Logic**: Add more sophisticated features like troop distribution, multiple territories, and varied actions.\\n\\nThis is a foundational example to demonstrate the basic structure and logic you\\'d need for a more complex game like Territorial.io.', role='assistant', function_call=None, tool_calls=None))], created=1722836476, model='gpt-4o-2024-05-13', object='chat.completion', service_tier=None, system_fingerprint='fp_3cd8b62c3b', usage=CompletionUsage(completion_tokens=833, prompt_tokens=28, total_tokens=861))"
      ]
     },
     "execution_count": 17,
     "metadata": {},
     "output_type": "execute_result"
    }
   ],
   "source": [
    "completion"
   ]
  },
  {
   "cell_type": "code",
   "execution_count": 19,
   "metadata": {},
   "outputs": [
    {
     "name": "stdout",
     "output_type": "stream",
     "text": [
      "ChatCompletion(id='chatcmpl-9skl2T61UBcXGAzxCnFFjVFzscd06', choices=[Choice(finish_reason='stop', index=0, logprobs=None, message=ChatCompletionMessage(content='Creating a Player vs. Player (PVP) battle game similar to Territorial.io can be quite complex as it involves several components, including game logic, a user interface, and potentially networking if you want to enable online multiplayer. Since building a complete game from scratch is a significant undertaking, I\\'ll illustrate a simplified text-based version to get you started. This example won\\'t involve graphics but will cover some basic game mechanics like player actions and territory control.\\n\\nHere\\'s a basic text-based version of a PVP battle:\\n\\n```python\\nimport random\\n\\nclass Player:\\n    def __init__(self, name):\\n        self.name = name\\n        self.territory = 1\\n        self.troops = 10\\n    \\n    def attack(self, other):\\n        if self.troops > 0:\\n            attack_power = random.randint(1, 3)\\n            self.troops -= attack_power\\n            other.territory -= attack_power\\n            other.territory = max(0, other.territory) # Ensure territory doesn\\'t go negative\\n            print(f\"{self.name} attacked {other.name} with {attack_power} power!\")\\n        else:\\n            print(f\"{self.name} has no troops left to attack!\")\\n\\n    def reinforce(self):\\n        reinforcement = random.randint(1, 5)\\n        self.troops += reinforcement\\n        print(f\"{self.name} reinforced with {reinforcement} troops!\")\\n    \\n    def show_status(self):\\n        print(f\"{self.name} - Territory: {self.territory}, Troops: {self.troops}\")\\n\\ndef check_winner(player1, player2):\\n    if player1.territory <= 0:\\n        return player2\\n    elif player2.territory <= 0:\\n        return player1\\n    else:\\n        return None\\n\\ndef main():\\n    player1_name = input(\"Enter name for Player 1: \")\\n    player2_name = input(\"Enter name for Player 2: \")\\n\\n    player1 = Player(player1_name)\\n    player2 = Player(player2_name)\\n\\n    turn = 0\\n    while True:\\n        print(\"\\\\nTurn\", turn + 1)\\n        player1.show_status()\\n        player2.show_status()\\n        \\n        if turn % 2 == 0:\\n            print(f\"\\\\n{player1.name}\\'s turn\")\\n            action = input(\"Enter \\'a\\' to attack or \\'r\\' to reinforce: \")\\n            if action == \\'a\\':\\n                player1.attack(player2)\\n            elif action == \\'r\\':\\n                player1.reinforce()\\n        else:\\n            print(f\"\\\\n{player2.name}\\'s turn\")\\n            action = input(\"Enter \\'a\\' to attack or \\'r\\' to reinforce: \")\\n            if action == \\'a\\':\\n                player2.attack(player1)\\n            elif action == \\'r\\':\\n                player2.reinforce()\\n        \\n        winner = check_winner(player1, player2)\\n        if winner:\\n            print(f\"\\\\n{winner.name} wins the game!\")\\n            break\\n\\n        turn += 1\\n\\nif __name__ == \"__main__\":\\n    main()\\n```\\n\\n### How it Works:\\n1. **Player Class**: Represents each player with attributes for `name`, `territory`, and `troops`. Players can `attack` another player or `reinforce` their troops.\\n2. **Main Loop**: Runs alternating turns for each player to either attack or reinforce.\\n3. **Winner Check**: Continually checks if either player\\'s territory drops to 0 or below, declaring the other player as the winner.\\n4. **User Interaction**: Simple text inputs to control player actions.\\n\\n### Next Steps:\\n- **Graphics**: Integrate a graphical library like Pygame to add a visual representation.\\n- **Networking**: Incorporate networking with libraries like `socket` to allow online multiplayer battles.\\n- **Enhanced Logic**: Add more sophisticated features like troop distribution, multiple territories, and varied actions.\\n\\nThis is a foundational example to demonstrate the basic structure and logic you\\'d need for a more complex game like Territorial.io.', role='assistant', function_call=None, tool_calls=None))], created=1722836476, model='gpt-4o-2024-05-13', object='chat.completion', service_tier=None, system_fingerprint='fp_3cd8b62c3b', usage=CompletionUsage(completion_tokens=833, prompt_tokens=28, total_tokens=861))\n"
     ]
    }
   ],
   "source": [
    "import pprint\n",
    "pprint.pprint(completion)"
   ]
  },
  {
   "cell_type": "code",
   "execution_count": 21,
   "metadata": {},
   "outputs": [
    {
     "name": "stdout",
     "output_type": "stream",
     "text": [
      "id: chatcmpl-9skl2T61UBcXGAzxCnFFjVFzscd06\n",
      "choices: [Choice(finish_reason='stop', index=0, logprobs=None, message=ChatCompletionMessage(content='Creating a Player vs. Player (PVP) battle game similar to Territorial.io can be quite complex as it involves several components, including game logic, a user interface, and potentially networking if you want to enable online multiplayer. Since building a complete game from scratch is a significant undertaking, I\\'ll illustrate a simplified text-based version to get you started. This example won\\'t involve graphics but will cover some basic game mechanics like player actions and territory control.\\n\\nHere\\'s a basic text-based version of a PVP battle:\\n\\n```python\\nimport random\\n\\nclass Player:\\n    def __init__(self, name):\\n        self.name = name\\n        self.territory = 1\\n        self.troops = 10\\n    \\n    def attack(self, other):\\n        if self.troops > 0:\\n            attack_power = random.randint(1, 3)\\n            self.troops -= attack_power\\n            other.territory -= attack_power\\n            other.territory = max(0, other.territory) # Ensure territory doesn\\'t go negative\\n            print(f\"{self.name} attacked {other.name} with {attack_power} power!\")\\n        else:\\n            print(f\"{self.name} has no troops left to attack!\")\\n\\n    def reinforce(self):\\n        reinforcement = random.randint(1, 5)\\n        self.troops += reinforcement\\n        print(f\"{self.name} reinforced with {reinforcement} troops!\")\\n    \\n    def show_status(self):\\n        print(f\"{self.name} - Territory: {self.territory}, Troops: {self.troops}\")\\n\\ndef check_winner(player1, player2):\\n    if player1.territory <= 0:\\n        return player2\\n    elif player2.territory <= 0:\\n        return player1\\n    else:\\n        return None\\n\\ndef main():\\n    player1_name = input(\"Enter name for Player 1: \")\\n    player2_name = input(\"Enter name for Player 2: \")\\n\\n    player1 = Player(player1_name)\\n    player2 = Player(player2_name)\\n\\n    turn = 0\\n    while True:\\n        print(\"\\\\nTurn\", turn + 1)\\n        player1.show_status()\\n        player2.show_status()\\n        \\n        if turn % 2 == 0:\\n            print(f\"\\\\n{player1.name}\\'s turn\")\\n            action = input(\"Enter \\'a\\' to attack or \\'r\\' to reinforce: \")\\n            if action == \\'a\\':\\n                player1.attack(player2)\\n            elif action == \\'r\\':\\n                player1.reinforce()\\n        else:\\n            print(f\"\\\\n{player2.name}\\'s turn\")\\n            action = input(\"Enter \\'a\\' to attack or \\'r\\' to reinforce: \")\\n            if action == \\'a\\':\\n                player2.attack(player1)\\n            elif action == \\'r\\':\\n                player2.reinforce()\\n        \\n        winner = check_winner(player1, player2)\\n        if winner:\\n            print(f\"\\\\n{winner.name} wins the game!\")\\n            break\\n\\n        turn += 1\\n\\nif __name__ == \"__main__\":\\n    main()\\n```\\n\\n### How it Works:\\n1. **Player Class**: Represents each player with attributes for `name`, `territory`, and `troops`. Players can `attack` another player or `reinforce` their troops.\\n2. **Main Loop**: Runs alternating turns for each player to either attack or reinforce.\\n3. **Winner Check**: Continually checks if either player\\'s territory drops to 0 or below, declaring the other player as the winner.\\n4. **User Interaction**: Simple text inputs to control player actions.\\n\\n### Next Steps:\\n- **Graphics**: Integrate a graphical library like Pygame to add a visual representation.\\n- **Networking**: Incorporate networking with libraries like `socket` to allow online multiplayer battles.\\n- **Enhanced Logic**: Add more sophisticated features like troop distribution, multiple territories, and varied actions.\\n\\nThis is a foundational example to demonstrate the basic structure and logic you\\'d need for a more complex game like Territorial.io.', role='assistant', function_call=None, tool_calls=None))]\n",
      "created: 1722836476\n",
      "model: gpt-4o-2024-05-13\n",
      "object: chat.completion\n",
      "service_tier: None\n",
      "system_fingerprint: fp_3cd8b62c3b\n",
      "usage: CompletionUsage(completion_tokens=833, prompt_tokens=28, total_tokens=861)\n",
      "{ 'choices': [ Choice(finish_reason='stop', index=0, logprobs=None, message=ChatCompletionMessage(content='Creating a Player vs. Player (PVP) battle game similar to Territorial.io can be quite complex as it involves several components, including game logic, a user interface, and potentially networking if you want to enable online multiplayer. Since building a complete game from scratch is a significant undertaking, I\\'ll illustrate a simplified text-based version to get you started. This example won\\'t involve graphics but will cover some basic game mechanics like player actions and territory control.\\n\\nHere\\'s a basic text-based version of a PVP battle:\\n\\n```python\\nimport random\\n\\nclass Player:\\n    def __init__(self, name):\\n        self.name = name\\n        self.territory = 1\\n        self.troops = 10\\n    \\n    def attack(self, other):\\n        if self.troops > 0:\\n            attack_power = random.randint(1, 3)\\n            self.troops -= attack_power\\n            other.territory -= attack_power\\n            other.territory = max(0, other.territory) # Ensure territory doesn\\'t go negative\\n            print(f\"{self.name} attacked {other.name} with {attack_power} power!\")\\n        else:\\n            print(f\"{self.name} has no troops left to attack!\")\\n\\n    def reinforce(self):\\n        reinforcement = random.randint(1, 5)\\n        self.troops += reinforcement\\n        print(f\"{self.name} reinforced with {reinforcement} troops!\")\\n    \\n    def show_status(self):\\n        print(f\"{self.name} - Territory: {self.territory}, Troops: {self.troops}\")\\n\\ndef check_winner(player1, player2):\\n    if player1.territory <= 0:\\n        return player2\\n    elif player2.territory <= 0:\\n        return player1\\n    else:\\n        return None\\n\\ndef main():\\n    player1_name = input(\"Enter name for Player 1: \")\\n    player2_name = input(\"Enter name for Player 2: \")\\n\\n    player1 = Player(player1_name)\\n    player2 = Player(player2_name)\\n\\n    turn = 0\\n    while True:\\n        print(\"\\\\nTurn\", turn + 1)\\n        player1.show_status()\\n        player2.show_status()\\n        \\n        if turn % 2 == 0:\\n            print(f\"\\\\n{player1.name}\\'s turn\")\\n            action = input(\"Enter \\'a\\' to attack or \\'r\\' to reinforce: \")\\n            if action == \\'a\\':\\n                player1.attack(player2)\\n            elif action == \\'r\\':\\n                player1.reinforce()\\n        else:\\n            print(f\"\\\\n{player2.name}\\'s turn\")\\n            action = input(\"Enter \\'a\\' to attack or \\'r\\' to reinforce: \")\\n            if action == \\'a\\':\\n                player2.attack(player1)\\n            elif action == \\'r\\':\\n                player2.reinforce()\\n        \\n        winner = check_winner(player1, player2)\\n        if winner:\\n            print(f\"\\\\n{winner.name} wins the game!\")\\n            break\\n\\n        turn += 1\\n\\nif __name__ == \"__main__\":\\n    main()\\n```\\n\\n### How it Works:\\n1. **Player Class**: Represents each player with attributes for `name`, `territory`, and `troops`. Players can `attack` another player or `reinforce` their troops.\\n2. **Main Loop**: Runs alternating turns for each player to either attack or reinforce.\\n3. **Winner Check**: Continually checks if either player\\'s territory drops to 0 or below, declaring the other player as the winner.\\n4. **User Interaction**: Simple text inputs to control player actions.\\n\\n### Next Steps:\\n- **Graphics**: Integrate a graphical library like Pygame to add a visual representation.\\n- **Networking**: Incorporate networking with libraries like `socket` to allow online multiplayer battles.\\n- **Enhanced Logic**: Add more sophisticated features like troop distribution, multiple territories, and varied actions.\\n\\nThis is a foundational example to demonstrate the basic structure and logic you\\'d need for a more complex game like Territorial.io.', role='assistant', function_call=None, tool_calls=None))],\n",
      "  'created': 1722836476,\n",
      "  'id': 'chatcmpl-9skl2T61UBcXGAzxCnFFjVFzscd06',\n",
      "  'model': 'gpt-4o-2024-05-13',\n",
      "  'object': 'chat.completion',\n",
      "  'service_tier': None,\n",
      "  'system_fingerprint': 'fp_3cd8b62c3b',\n",
      "  'usage': CompletionUsage(completion_tokens=833, prompt_tokens=28, total_tokens=861)}\n"
     ]
    }
   ],
   "source": [
    "for attr, value in vars(completion).items():\n",
    "    print(f\"{attr}: {value}\")\n",
    "    import pprint\n",
    "\n",
    "# Pretty-printing the attributes\n",
    "pprint.pprint(vars(completion), indent=2)"
   ]
  },
  {
   "cell_type": "code",
   "execution_count": 22,
   "metadata": {},
   "outputs": [
    {
     "name": "stdout",
     "output_type": "stream",
     "text": [
      "finish_reason: stop\n",
      "index: 0\n",
      "logprobs: None\n",
      "message: ChatCompletionMessage(content='Creating a Player vs. Player (PVP) battle game similar to Territorial.io can be quite complex as it involves several components, including game logic, a user interface, and potentially networking if you want to enable online multiplayer. Since building a complete game from scratch is a significant undertaking, I\\'ll illustrate a simplified text-based version to get you started. This example won\\'t involve graphics but will cover some basic game mechanics like player actions and territory control.\\n\\nHere\\'s a basic text-based version of a PVP battle:\\n\\n```python\\nimport random\\n\\nclass Player:\\n    def __init__(self, name):\\n        self.name = name\\n        self.territory = 1\\n        self.troops = 10\\n    \\n    def attack(self, other):\\n        if self.troops > 0:\\n            attack_power = random.randint(1, 3)\\n            self.troops -= attack_power\\n            other.territory -= attack_power\\n            other.territory = max(0, other.territory) # Ensure territory doesn\\'t go negative\\n            print(f\"{self.name} attacked {other.name} with {attack_power} power!\")\\n        else:\\n            print(f\"{self.name} has no troops left to attack!\")\\n\\n    def reinforce(self):\\n        reinforcement = random.randint(1, 5)\\n        self.troops += reinforcement\\n        print(f\"{self.name} reinforced with {reinforcement} troops!\")\\n    \\n    def show_status(self):\\n        print(f\"{self.name} - Territory: {self.territory}, Troops: {self.troops}\")\\n\\ndef check_winner(player1, player2):\\n    if player1.territory <= 0:\\n        return player2\\n    elif player2.territory <= 0:\\n        return player1\\n    else:\\n        return None\\n\\ndef main():\\n    player1_name = input(\"Enter name for Player 1: \")\\n    player2_name = input(\"Enter name for Player 2: \")\\n\\n    player1 = Player(player1_name)\\n    player2 = Player(player2_name)\\n\\n    turn = 0\\n    while True:\\n        print(\"\\\\nTurn\", turn + 1)\\n        player1.show_status()\\n        player2.show_status()\\n        \\n        if turn % 2 == 0:\\n            print(f\"\\\\n{player1.name}\\'s turn\")\\n            action = input(\"Enter \\'a\\' to attack or \\'r\\' to reinforce: \")\\n            if action == \\'a\\':\\n                player1.attack(player2)\\n            elif action == \\'r\\':\\n                player1.reinforce()\\n        else:\\n            print(f\"\\\\n{player2.name}\\'s turn\")\\n            action = input(\"Enter \\'a\\' to attack or \\'r\\' to reinforce: \")\\n            if action == \\'a\\':\\n                player2.attack(player1)\\n            elif action == \\'r\\':\\n                player2.reinforce()\\n        \\n        winner = check_winner(player1, player2)\\n        if winner:\\n            print(f\"\\\\n{winner.name} wins the game!\")\\n            break\\n\\n        turn += 1\\n\\nif __name__ == \"__main__\":\\n    main()\\n```\\n\\n### How it Works:\\n1. **Player Class**: Represents each player with attributes for `name`, `territory`, and `troops`. Players can `attack` another player or `reinforce` their troops.\\n2. **Main Loop**: Runs alternating turns for each player to either attack or reinforce.\\n3. **Winner Check**: Continually checks if either player\\'s territory drops to 0 or below, declaring the other player as the winner.\\n4. **User Interaction**: Simple text inputs to control player actions.\\n\\n### Next Steps:\\n- **Graphics**: Integrate a graphical library like Pygame to add a visual representation.\\n- **Networking**: Incorporate networking with libraries like `socket` to allow online multiplayer battles.\\n- **Enhanced Logic**: Add more sophisticated features like troop distribution, multiple territories, and varied actions.\\n\\nThis is a foundational example to demonstrate the basic structure and logic you\\'d need for a more complex game like Territorial.io.', role='assistant', function_call=None, tool_calls=None)\n"
     ]
    }
   ],
   "source": [
    "for at, val in vars(completion.choices[0]).items():\n",
    "    print(f\"{at}: {val}\")"
   ]
  },
  {
   "cell_type": "code",
   "execution_count": 31,
   "metadata": {},
   "outputs": [
    {
     "name": "stdout",
     "output_type": "stream",
     "text": [
      "content: Creating\n",
      "role: assistan\n",
      "function_call: None\n",
      "tool_calls: None\n"
     ]
    }
   ],
   "source": [
    "for at, val in vars(completion.choices[0].message).items():\n",
    "    if val is not None:\n",
    "        print(f\"{at}: {val[:8] if isinstance(val, (str, list, dict)) else val}\")\n",
    "    else:\n",
    "        print(f\"{at}: None\")"
   ]
  },
  {
   "cell_type": "code",
   "execution_count": 29,
   "metadata": {},
   "outputs": [
    {
     "name": "stdout",
     "output_type": "stream",
     "text": [
      "<class 'openai.types.chat.chat_completion_message.ChatCompletionMessage'>\n",
      "<class 'str'>\n"
     ]
    }
   ],
   "source": [
    "print(type(completion.choices[0].message))\n",
    "print(type(completion.choices[0].message.content))"
   ]
  },
  {
   "cell_type": "markdown",
   "metadata": {},
   "source": [
    "# Stream 기능 추가"
   ]
  },
  {
   "cell_type": "code",
   "execution_count": 42,
   "metadata": {},
   "outputs": [
    {
     "name": "stdout",
     "output_type": "stream",
     "text": [
      "Creating a Player vs Player (PVP) battle game like Territorial.io involves several steps. We’ll outline a simplified version where players can control territories and attack each other. Below is a basic implementation in Python using the `Pygame` library to handle the game loop, graphics, and user input. Ensure you have Pygame installed (`pip install pygame`).\n",
      "\n",
      "Here is a basic version of such a game:\n",
      "\n",
      "```python\n",
      "import pygame\n",
      "import random\n",
      "\n",
      "# Initialize Pygame\n",
      "pygame.init()\n",
      "\n",
      "# Colors\n",
      "WHITE = (255, 255, 255)\n",
      "BLACK = (0, 0, 0)\n",
      "RED = (255, 0, 0)\n",
      "BLUE = (0, 0, 255)\n",
      "\n",
      "# Screen dimensions\n",
      "SCREEN_WIDTH = 800\n",
      "SCREEN_HEIGHT = 600\n",
      "\n",
      "# Setup display\n",
      "screen = pygame.display.set_mode((SCREEN_WIDTH, SCREEN_HEIGHT))\n",
      "pygame.display.set_caption(\"Territorial PVP Battle\")\n",
      "\n",
      "# Player class\n",
      "class Player:\n",
      "    def __init__(self, color, x, y):\n",
      "        self.color = color\n",
      "        self.rect = pygame.Rect(x, y, 50, 50)\n",
      "        self.territory = pygame.Surface((SCREEN_WIDTH, SCREEN_HEIGHT), pygame.SRCALPHA)\n",
      "\n",
      "    def draw(self, screen):\n",
      "        pygame.draw.rect(screen, self.color, self.rect)\n",
      "\n",
      "    def expand_territory(self):\n",
      "        pygame.draw.rect(self.territory, self.color, self.rect.inflate(10, 10))\n",
      "\n",
      "    def move(self, dx, dy):\n",
      "        self.rect.x += dx\n",
      "        self.rect.y += dy\n",
      "\n",
      "def check_collision(player1, player2):\n",
      "    return player1.rect.colliderect(player2.rect)\n",
      "\n",
      "def main():\n",
      "    clock = pygame.time.Clock()\n",
      "    font = pygame.font.Font(None, 36)\n",
      "\n",
      "    player1 = Player(RED, 100, 100)\n",
      "    player2 = Player(BLUE, 600, 400)\n",
      "    players = [player1, player2]\n",
      "\n",
      "    running = True\n",
      "    while running:\n",
      "        for event in pygame.event.get():\n",
      "            if event.type == pygame.QUIT:\n",
      "                running = False\n",
      "\n",
      "        keys = pygame.key.get_pressed()\n",
      "        if keys[pygame.K_w]:\n",
      "            player1.move(0, -5)\n",
      "        if keys[pygame.K_s]:\n",
      "            player1.move(0, 5)\n",
      "        if keys[pygame.K_a]:\n",
      "            player1.move(-5, 0)\n",
      "        if keys[pygame.K_d]:\n",
      "            player1.move(5, 0)\n",
      "\n",
      "        if keys[pygame.K_UP]:\n",
      "            player2.move(0, -5)\n",
      "        if keys[pygame.K_DOWN]:\n",
      "            player2.move(0, 5)\n",
      "        if keys[pygame.K_LEFT]:\n",
      "            player2.move(-5, 0)\n",
      "        if keys[pygame.K_RIGHT]:\n",
      "            player2.move(5, 0)\n",
      "\n",
      "        # Check for collisions and expand territory\n",
      "        if check_collision(player1, player2):\n",
      "            player1.expand_territory()\n",
      "            player2.expand_territory()\n",
      "\n",
      "        # Clear the screen\n",
      "        screen.fill(WHITE)\n",
      "\n",
      "        # Draw players' territories\n",
      "        screen.blit(player1.territory, (0, 0))\n",
      "        screen.blit(player2.territory, (0, 0))\n",
      "\n",
      "        # Draw players\n",
      "        player1.draw(screen)\n",
      "        player2.draw(screen)\n",
      "\n",
      "        # Check for win condition\n",
      "        if player1.rect.x < 0 or player1.rect.x > SCREEN_WIDTH - 50 or player1.rect.y < 0 or player1.rect.y > SCREEN_HEIGHT - 50:\n",
      "            winner_text = font.render(\"Player 2 Wins!\", True, BLACK)\n",
      "            screen.blit(winner_text, (SCREEN_WIDTH // 2 - 100, SCREEN_HEIGHT // 2))\n",
      "            pygame.display.flip()\n",
      "            pygame.time.wait(2000)\n",
      "            running = False\n",
      "        \n",
      "        if player2.rect.x < 0 or player2.rect.x > SCREEN_WIDTH - 50 or player2.rect.y < 0 or player2.rect.y > SCREEN_HEIGHT - 50:\n",
      "            winner_text = font.render(\"Player 1 Wins!\", True, BLACK)\n",
      "            screen.blit(winner_text, (SCREEN_WIDTH // 2 - 100, SCREEN_HEIGHT // 2))\n",
      "            pygame.display.flip()\n",
      "            pygame.time.wait(2000)\n",
      "            running = False\n",
      "\n",
      "        # Update the display\n",
      "        pygame.display.flip()\n",
      "\n",
      "        # Cap the frame rate\n",
      "        clock.tick(30)\n",
      "\n",
      "    pygame.quit()\n",
      "\n",
      "if __name__ == \"__main__\":\n",
      "    main()\n",
      "```\n",
      "\n",
      "### Explanation\n",
      "1. **Initialize Pygame**: We initialize Pygame and set up the colors, screen dimensions, and display.\n",
      "2. **Player Class**: The Player class represents each player controlled by the user, with methods to draw, move, and expand territory.\n",
      "3. **Main Function**: The `main` function handles the game loop, player movements, collision detection, and drawing on the screen.\n",
      "4. **Event Loop**: Inside the loop, we check for key presses to move the players and handle collisions.\n",
      "5. **Win Condition**: If a player moves out of the screen bounds, the other player wins, and the game ends.\n",
      "\n",
      "### Running the Game\n",
      "1. Save the script to `territorial_pvp.py`.\n",
      "2. Install Pygame: `pip install pygame`.\n",
      "3. Run the script: `python territorial_pvp.py`.\n",
      "\n",
      "This is a simple implementation to get you started. For a more complex and polished game, you would need to add more features like different types of actions, better graphics, and a more complex territory control mechanism.None"
     ]
    }
   ],
   "source": [
    "# stream_completion = client.chat.completions.create(\n",
    "#     model=\"gpt=3.5-turbo\",\n",
    "#     messages = [\n",
    "#         {\n",
    "#             \"role\":\"system\",\n",
    "#             \"content\":\"you are a programmer\"\n",
    "#         },\n",
    "#         {\n",
    "#             \"role\":\"user\",\n",
    "#             \"content\":\"make program to implement linux kernel in python\"\n",
    "#         }\n",
    "\n",
    "#     ],\n",
    "#     stream=True,\n",
    "# )\n",
    "completion1 = client.chat.completions.create(\n",
    "    model  = \"gpt-4o\",\n",
    "    messages = [\n",
    "        {\n",
    "        \"role\":\"system\",\n",
    "        \"content\":\"you are a python programmer\",\n",
    "\n",
    "    },\n",
    "    {\n",
    "        \"role\":\"user\",\n",
    "        \"content\":\"make a python program to make PVP battle like territorial io\",\n",
    "    },\n",
    "    ],\n",
    "    stream = True\n",
    ")\n",
    "for chunk in completion1:\n",
    "    print(chunk.choices[0].delta.content, end = \"\")"
   ]
  },
  {
   "cell_type": "code",
   "execution_count": null,
   "metadata": {},
   "outputs": [],
   "source": []
  }
 ],
 "metadata": {
  "kernelspec": {
   "display_name": "Python 3",
   "language": "python",
   "name": "python3"
  },
  "language_info": {
   "codemirror_mode": {
    "name": "ipython",
    "version": 3
   },
   "file_extension": ".py",
   "mimetype": "text/x-python",
   "name": "python",
   "nbconvert_exporter": "python",
   "pygments_lexer": "ipython3",
   "version": "3.12.4"
  }
 },
 "nbformat": 4,
 "nbformat_minor": 2
}
